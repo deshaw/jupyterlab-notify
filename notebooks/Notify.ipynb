{
 "cells": [
  {
   "cell_type": "markdown",
   "id": "fdc3c61e-822b-4f2c-a119-262406b8f64a",
   "metadata": {
    "execution": {
     "iopub.execute_input": "2021-06-26T13:44:42.202786Z",
     "iopub.status.busy": "2021-06-26T13:44:42.202379Z",
     "iopub.status.idle": "2021-06-26T13:44:42.210147Z",
     "shell.execute_reply": "2021-06-26T13:44:42.206971Z",
     "shell.execute_reply.started": "2021-06-26T13:44:42.202695Z"
    }
   },
   "source": [
    "## First load the extension to make the magic avaiable"
   ]
  },
  {
   "cell_type": "code",
   "execution_count": 1,
   "id": "58e491b0-891b-439c-b254-8e8284ab0a4d",
   "metadata": {
    "execution": {
     "iopub.execute_input": "2021-06-26T13:49:21.123200Z",
     "iopub.status.busy": "2021-06-26T13:49:21.122613Z",
     "iopub.status.idle": "2021-06-26T13:49:21.164800Z",
     "shell.execute_reply": "2021-06-26T13:49:21.163799Z",
     "shell.execute_reply.started": "2021-06-26T13:49:21.123000Z"
    },
    "tags": []
   },
   "outputs": [
    {
     "data": {
      "application/desktop-notify+json": {
       "id": "5b58ada4-a013-44dc-a953-bf6a53220e7a",
       "payload": {
        "title": null
       },
       "type": "INIT"
      },
      "text/plain": [
       "<jupyterlab_notify.magics._Notification at 0x10c85d630>"
      ]
     },
     "metadata": {},
     "output_type": "display_data"
    }
   ],
   "source": [
    "%load_ext jupyterlab_notify"
   ]
  },
  {
   "cell_type": "code",
   "execution_count": 2,
   "id": "131e5355-3f24-4f1b-8fc0-97ca1798e249",
   "metadata": {
    "execution": {
     "iopub.execute_input": "2021-06-26T13:49:21.167953Z",
     "iopub.status.busy": "2021-06-26T13:49:21.167553Z",
     "iopub.status.idle": "2021-06-26T13:49:21.179360Z",
     "shell.execute_reply": "2021-06-26T13:49:21.178161Z",
     "shell.execute_reply.started": "2021-06-26T13:49:21.167917Z"
    },
    "tags": []
   },
   "outputs": [
    {
     "name": "stdout",
     "output_type": "stream",
     "text": [
      "Hello world\n"
     ]
    },
    {
     "data": {
      "application/desktop-notify+json": {
       "id": "86d6e76c-1d76-4287-980b-57b912a2a89a",
       "payload": {
        "title": "Cell execution completed successfully"
       },
       "type": "NOTIFY"
      },
      "text/plain": [
       "<jupyterlab_notify.magics._Notification at 0x10c85d9b0>"
      ]
     },
     "metadata": {},
     "output_type": "display_data"
    }
   ],
   "source": [
    "%%notify\n",
    "# Always notify\n",
    "print('Hello world')"
   ]
  },
  {
   "cell_type": "code",
   "execution_count": 3,
   "id": "33b642e5-3a69-4213-9a0c-81ec61553a88",
   "metadata": {
    "execution": {
     "iopub.execute_input": "2021-06-26T13:49:21.182713Z",
     "iopub.status.busy": "2021-06-26T13:49:21.182391Z",
     "iopub.status.idle": "2021-06-26T13:49:23.193565Z",
     "shell.execute_reply": "2021-06-26T13:49:23.191073Z",
     "shell.execute_reply.started": "2021-06-26T13:49:21.182674Z"
    },
    "tags": []
   },
   "outputs": [],
   "source": [
    "%notify_all --threshold 1\n",
    "# Notify after a cell that takes 1s or more\n",
    "import time\n",
    "time.sleep(2)"
   ]
  },
  {
   "cell_type": "code",
   "execution_count": 4,
   "id": "99822b36-9f09-42ba-90ba-256eece72725",
   "metadata": {
    "execution": {
     "iopub.execute_input": "2021-06-26T13:49:23.196897Z",
     "iopub.status.busy": "2021-06-26T13:49:23.196460Z",
     "iopub.status.idle": "2021-06-26T13:49:23.202589Z",
     "shell.execute_reply": "2021-06-26T13:49:23.201292Z",
     "shell.execute_reply.started": "2021-06-26T13:49:23.196847Z"
    },
    "tags": []
   },
   "outputs": [],
   "source": [
    "# Notify for any cell that errors or takes more than a day\n",
    "%notify_all -t 86400 -f 'Notebook execution failed'"
   ]
  },
  {
   "cell_type": "code",
   "execution_count": 5,
   "id": "912ef76d-74b6-4160-a0be-68993c33e2fe",
   "metadata": {
    "execution": {
     "iopub.execute_input": "2021-06-26T13:49:23.205093Z",
     "iopub.status.busy": "2021-06-26T13:49:23.204610Z",
     "iopub.status.idle": "2021-06-26T13:49:23.228532Z",
     "shell.execute_reply": "2021-06-26T13:49:23.226690Z",
     "shell.execute_reply.started": "2021-06-26T13:49:23.205039Z"
    },
    "tags": []
   },
   "outputs": [
    {
     "name": "stdout",
     "output_type": "stream",
     "text": [
      "doing work...\n"
     ]
    }
   ],
   "source": [
    "print('doing work...')"
   ]
  },
  {
   "cell_type": "code",
   "execution_count": 6,
   "id": "e8d0db9f-71e7-4fa0-b5b4-4892c162387a",
   "metadata": {
    "execution": {
     "iopub.execute_input": "2021-06-26T13:49:23.232259Z",
     "iopub.status.busy": "2021-06-26T13:49:23.231895Z",
     "iopub.status.idle": "2021-06-26T13:49:23.236874Z",
     "shell.execute_reply": "2021-06-26T13:49:23.235480Z",
     "shell.execute_reply.started": "2021-06-26T13:49:23.232227Z"
    },
    "tags": []
   },
   "outputs": [
    {
     "name": "stdout",
     "output_type": "stream",
     "text": [
      "doing work...\n"
     ]
    }
   ],
   "source": [
    "print('doing work...')"
   ]
  },
  {
   "cell_type": "code",
   "execution_count": 7,
   "id": "5645d5f7-0949-4bff-b5fb-edd6376d5698",
   "metadata": {
    "execution": {
     "iopub.execute_input": "2021-06-26T13:49:23.239499Z",
     "iopub.status.busy": "2021-06-26T13:49:23.239071Z",
     "iopub.status.idle": "2021-06-26T13:49:23.259758Z",
     "shell.execute_reply": "2021-06-26T13:49:23.258746Z",
     "shell.execute_reply.started": "2021-06-26T13:49:23.239452Z"
    },
    "tags": []
   },
   "outputs": [
    {
     "data": {
      "application/desktop-notify+json": {
       "id": "91295ce8-b0df-4936-aadb-cece78705e19",
       "payload": {
        "title": "'Notebook execution completed'"
       },
       "type": "NOTIFY"
      },
      "text/plain": [
       "<jupyterlab_notify.magics._Notification at 0x10ca45f28>"
      ]
     },
     "metadata": {},
     "output_type": "display_data"
    }
   ],
   "source": [
    "%%notify -s 'Notebook execution completed'\n",
    "# In last cell we do this so we can run all and get notified that the notebook failed (per above) or finished!"
   ]
  }
 ],
 "metadata": {
  "kernelspec": {
   "display_name": "Python 3",
   "language": "python",
   "name": "python3"
  },
  "language_info": {
   "codemirror_mode": {
    "name": "ipython",
    "version": 3
   },
   "file_extension": ".py",
   "mimetype": "text/x-python",
   "name": "python",
   "nbconvert_exporter": "python",
   "pygments_lexer": "ipython3",
   "version": "3.7.3"
  }
 },
 "nbformat": 4,
 "nbformat_minor": 5
}
